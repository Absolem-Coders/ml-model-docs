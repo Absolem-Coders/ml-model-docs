{
 "cells": [
  {
   "cell_type": "markdown",
   "id": "cfb6ba07",
   "metadata": {},
   "source": [
    "# PROCESSO DE CRIAÇÃO DO MODELO DE MACHINE LEARNING PARA PREVER A PRESENÇA DE MINÉRIOS EM DETERMINADA COORDENADA\n",
    "\n",
    "O conteúdo descrito neste notebook visa desenvolver um modelo capaz de prever a presença de minérios em coordenadas geográficas específicas. Este processo envolve a coleta de dados presentes no banco de dados do Mineral Resources Data System (https://mrdata.usgs.gov/mrds/) e a manipulação afim de criar um modelo de machine leraning que pode ser usado para fazer previsões sobre a presença de minérios em novas coordenadas. Esse tópico é de grande importância na indústria de mineração, pois pode ajudar a otimizar a exploração de recursos naturais e a tomada de decisões estratégicas."
   ]
  },
  {
   "cell_type": "markdown",
   "id": "36defd5b",
   "metadata": {},
   "source": [
    "## 1. PREPARAÇÃO INICIAL"
   ]
  },
  {
   "cell_type": "markdown",
   "id": "68ad0acb",
   "metadata": {},
   "source": [
    "### 1.1. Importação de libs"
   ]
  },
  {
   "cell_type": "code",
   "execution_count": null,
   "id": "42a9199e",
   "metadata": {},
   "outputs": [],
   "source": [
    "import os, wget, zipfile\n",
    "\n",
    "import pandas as pd\n",
    "\n",
    "from sklearn.ensemble import RandomForestClassifier\n",
    "from sklearn.model_selection import train_test_split\n",
    "\n",
    "import random\n",
    "\n",
    "import pickle"
   ]
  },
  {
   "cell_type": "markdown",
   "id": "373a09d0",
   "metadata": {},
   "source": [
    "### 1.2. Carregando dados"
   ]
  },
  {
   "cell_type": "code",
   "execution_count": null,
   "id": "8e1be69a",
   "metadata": {},
   "outputs": [],
   "source": [
    "# Downloading Data\n",
    "data_url = 'https://mrdata.usgs.gov/mrds/mrds-csv.zip'\n",
    "wget.download(data_url)\n",
    "z = zipfile.ZipFile('mrds-csv.zip')\n",
    "z.extract('mrds.csv')\n",
    "z.close()\n",
    "os.remove('mrds-csv.zip')"
   ]
  },
  {
   "cell_type": "code",
   "execution_count": null,
   "id": "b36df1b0",
   "metadata": {},
   "outputs": [],
   "source": [
    "df = pd.read_csv('mrds.csv')"
   ]
  },
  {
   "cell_type": "code",
   "execution_count": null,
   "id": "118961db",
   "metadata": {},
   "outputs": [],
   "source": [
    "df['score'].value_counts()"
   ]
  },
  {
   "cell_type": "markdown",
   "id": "deef4176",
   "metadata": {},
   "source": [
    "## 2. ANÁLISE EXPLORATÓRIA"
   ]
  },
  {
   "cell_type": "markdown",
   "id": "b72e87c2",
   "metadata": {},
   "source": [
    "### 2.1. Visualizando topo do dataframe"
   ]
  },
  {
   "cell_type": "code",
   "execution_count": null,
   "id": "f0dbf0e6",
   "metadata": {
    "scrolled": false
   },
   "outputs": [],
   "source": [
    "df.head()"
   ]
  },
  {
   "cell_type": "markdown",
   "id": "a1348d13",
   "metadata": {},
   "source": [
    "### 2.3. Informações sobre o dataframe"
   ]
  },
  {
   "cell_type": "code",
   "execution_count": null,
   "id": "080f0745",
   "metadata": {},
   "outputs": [],
   "source": [
    "df.info()"
   ]
  },
  {
   "cell_type": "markdown",
   "id": "5b91fc41",
   "metadata": {},
   "source": [
    "## 3. PREPROCESSAMENTO DOS DADOS PARA ML"
   ]
  },
  {
   "cell_type": "markdown",
   "id": "48d9806b",
   "metadata": {},
   "source": [
    "### 3.1. Removendo colunas inutilizadas"
   ]
  },
  {
   "cell_type": "code",
   "execution_count": null,
   "id": "79a215d9",
   "metadata": {},
   "outputs": [],
   "source": [
    "df = df[['latitude', 'longitude', 'ore']]\n",
    "df"
   ]
  },
  {
   "cell_type": "markdown",
   "id": "5a2a7651",
   "metadata": {},
   "source": [
    "### 3.2. Removendo linhas contendo valor nulo"
   ]
  },
  {
   "cell_type": "code",
   "execution_count": null,
   "id": "61312347",
   "metadata": {
    "scrolled": false
   },
   "outputs": [],
   "source": [
    "df = df.dropna(subset=['ore', 'latitude', 'longitude'])\n",
    "df"
   ]
  },
  {
   "cell_type": "markdown",
   "id": "95e8af0a",
   "metadata": {},
   "source": [
    "### 3.3. Separando conteúdo da coluna 'ore' em novas colunas"
   ]
  },
  {
   "cell_type": "markdown",
   "id": "44a9e2b4",
   "metadata": {},
   "source": [
    "#### 3.3.1. Transformando items do dataframe separados por vírgula em uma lista de items"
   ]
  },
  {
   "cell_type": "code",
   "execution_count": null,
   "id": "3eb8c081",
   "metadata": {},
   "outputs": [],
   "source": [
    "df['ore'] = df['ore'].str.split(',').apply(lambda x: [item.strip() for item in x] if isinstance(x, list) else x)\n",
    "df"
   ]
  },
  {
   "cell_type": "markdown",
   "id": "928526d0",
   "metadata": {},
   "source": [
    "#### 3.3.2. Transformando os itens da coluna ore\n",
    "Transformando os itens da coluna ore para novas colunas num dataframe temporário, onde seu conteúdo é do tipo bool, correspondendo à presença do minério na linha correspondente."
   ]
  },
  {
   "cell_type": "code",
   "execution_count": null,
   "id": "9d38331f",
   "metadata": {
    "scrolled": false
   },
   "outputs": [],
   "source": [
    "ores = []\n",
    "\n",
    "for ore_list in df['ore']:\n",
    "    for ore in ore_list:\n",
    "        if ore not in ores:\n",
    "            ores.append(ore)\n",
    "\n",
    "ore_dummies = df['ore'].apply(lambda x: pd.Series([1 if ore in x else 0 for ore in ores]))\n",
    "\n",
    "columns = {}\n",
    "counter = 0\n",
    "for ore in ores:\n",
    "    columns[counter] = ore\n",
    "    counter += 1\n",
    "\n",
    "ore_dummies = ore_dummies.rename(columns=columns)\n",
    "ore_dummies"
   ]
  },
  {
   "cell_type": "markdown",
   "id": "4b3e2450",
   "metadata": {},
   "source": [
    "#### 3.3.3. Selecionando os 30 minerais com maior contagem de registros\n",
    "Selecionando os 30 minerais com maior contagem de registros em virtude da existência de minerais com baixa contagem."
   ]
  },
  {
   "cell_type": "code",
   "execution_count": null,
   "id": "97d33a55",
   "metadata": {},
   "outputs": [],
   "source": [
    "ores_zip = []\n",
    "\n",
    "for ore in ores:\n",
    "    value_counts = ore_dummies[ore].value_counts()\n",
    "    ores_zip.append((ore, value_counts[1]))\n",
    "\n",
    "sorted_zips = sorted(ores_zip, key=lambda x: x[1], reverse=True)\n",
    "top_10_minerais = sorted_zips[:30]\n",
    "top_10_minerais"
   ]
  },
  {
   "cell_type": "markdown",
   "id": "9785d25a",
   "metadata": {},
   "source": [
    "#### 3.3.4. Descartando minerais não selecionados"
   ]
  },
  {
   "cell_type": "code",
   "execution_count": null,
   "id": "80788646",
   "metadata": {},
   "outputs": [],
   "source": [
    "drop_ores = []\n",
    "\n",
    "for x in sorted_zips[30:]:\n",
    "    drop_ores.append(x[0])\n",
    "    \n",
    "ore_dummies = ore_dummies.drop(drop_ores, axis=1)\n",
    "ore_dummies"
   ]
  },
  {
   "cell_type": "markdown",
   "id": "563ad716",
   "metadata": {},
   "source": [
    "#### 3.3.5. Concatenando dataframes\n",
    "\n",
    "Concatenando dataframe original com o dataframe temporário e atribuindo a um novo dataframe, descartando a coluna 'ore'"
   ]
  },
  {
   "cell_type": "code",
   "execution_count": null,
   "id": "1cfbbf46",
   "metadata": {},
   "outputs": [],
   "source": [
    "new_df = pd.concat([df, ore_dummies], axis=1)\n",
    "new_df = new_df.drop(['ore'], axis=1)\n",
    "new_df"
   ]
  },
  {
   "cell_type": "markdown",
   "id": "21a99f4d",
   "metadata": {},
   "source": [
    "## 4. CRIANDO OS MODELOS DE ML"
   ]
  },
  {
   "cell_type": "markdown",
   "id": "5202727e",
   "metadata": {},
   "source": [
    "### 4.1. Criando um modelo de ML para cada ore\n",
    "Criando um modelo de ML para cada ore e exibindo seus scores correspondentes"
   ]
  },
  {
   "cell_type": "code",
   "execution_count": null,
   "id": "de919c5b",
   "metadata": {
    "scrolled": true
   },
   "outputs": [],
   "source": [
    "models = {}\n",
    "\n",
    "for column in new_df.drop(['latitude', 'longitude'], axis=1).columns:\n",
    "    \n",
    "    print(f'Training model for \"{column}\"')\n",
    "    \n",
    "    y = new_df[column]\n",
    "    X = new_df[['latitude', 'longitude']]\n",
    "    \n",
    "    X_train, X_test, y_train, y_test = train_test_split(X, y, test_size=0.2, random_state=101)\n",
    "    \n",
    "    rf_model = RandomForestClassifier()\n",
    "    rf_model.fit(X_train, y_train)\n",
    "    \n",
    "    print(f'Scores: Training = {rf_model.score(X_train, y_train)} - Test = {rf_model.score(X_test, y_test)}\\n')\n",
    "    \n",
    "    models[column] = rf_model"
   ]
  },
  {
   "cell_type": "markdown",
   "id": "177ac475",
   "metadata": {},
   "source": [
    "### 4.2. Salvando modelos criados na pasta models"
   ]
  },
  {
   "cell_type": "code",
   "execution_count": null,
   "id": "eb591a10",
   "metadata": {
    "scrolled": true
   },
   "outputs": [],
   "source": [
    "for ore in models:\n",
    "    path = 'models/'\n",
    "    fname = f'{ore.lower()}.pickle'\n",
    "    with open(path+fname, 'wb') as f:\n",
    "        pickle.dump(models[ore], f)\n",
    "        print(f'\\\"{fname}\\\" saved')"
   ]
  },
  {
   "cell_type": "markdown",
   "id": "dd913897",
   "metadata": {},
   "source": [
    "### 4.3. Exemplo: consumindo modelo através do arquivo para gerar pins"
   ]
  },
  {
   "cell_type": "code",
   "execution_count": null,
   "id": "881dbf2c",
   "metadata": {},
   "outputs": [],
   "source": [
    "# Caminho para o modelo salvo. Neste exemplo, é usado o 'gold.pickle'.\n",
    "model_fpath = 'models/gold.pickle'\n",
    "\n",
    "# Número de Pins a serem criados.\n",
    "n_pins = 5\n",
    "\n",
    "def get_pins(model_fpath, n_pins):\n",
    "\n",
    "    # Constantes Imutáveis\n",
    "    MIN_LATITUDE = -90\n",
    "    MAX_LATITUDE = 90\n",
    "    MIN_LONGITUDE = -180\n",
    "    MAX_LONGITUDE = 180\n",
    "\n",
    "    pins = []\n",
    "\n",
    "    with open(model_fpath, 'rb') as f:\n",
    "\n",
    "        rf = pickle.load(f)\n",
    "\n",
    "        while (len(pins)<n_pins):\n",
    "\n",
    "            random_data = {\n",
    "                'latitude': [random.uniform(MIN_LATITUDE, MAX_LATITUDE)],\n",
    "                'longitude': [random.uniform(MIN_LONGITUDE, MAX_LONGITUDE)]\n",
    "            }\n",
    "\n",
    "            predict_X = pd.DataFrame(random_data)\n",
    "            predict = rf.predict(predict_X)\n",
    "\n",
    "            if predict[0] == 1:\n",
    "                pins.append({'latitude': predict_X['latitude'][0], 'longitude': predict_X['longitude'][0]})\n",
    "\n",
    "    return pins\n",
    "\n",
    "get_pins(model_fpath, n_pins)"
   ]
  }
 ],
 "metadata": {
  "kernelspec": {
   "display_name": "Python 3 (ipykernel)",
   "language": "python",
   "name": "python3"
  },
  "language_info": {
   "codemirror_mode": {
    "name": "ipython",
    "version": 3
   },
   "file_extension": ".py",
   "mimetype": "text/x-python",
   "name": "python",
   "nbconvert_exporter": "python",
   "pygments_lexer": "ipython3",
   "version": "3.11.4"
  }
 },
 "nbformat": 4,
 "nbformat_minor": 5
}
